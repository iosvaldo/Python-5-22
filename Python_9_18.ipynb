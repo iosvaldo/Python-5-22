{
  "nbformat": 4,
  "nbformat_minor": 0,
  "metadata": {
    "colab": {
      "name": "Python 9.18.ipynb",
      "provenance": [],
      "authorship_tag": "ABX9TyMa+L1/AlO0u70V+Icdpb5c",
      "include_colab_link": true
    },
    "kernelspec": {
      "name": "python3",
      "display_name": "Python 3"
    },
    "language_info": {
      "name": "python"
    }
  },
  "cells": [
    {
      "cell_type": "markdown",
      "metadata": {
        "id": "view-in-github",
        "colab_type": "text"
      },
      "source": [
        "<a href=\"https://colab.research.google.com/github/iosvaldo/Python-Part-one-Jupyter-Notebook/blob/master/Python_9_18.ipynb\" target=\"_parent\"><img src=\"https://colab.research.google.com/assets/colab-badge.svg\" alt=\"Open In Colab\"/></a>"
      ]
    },
    {
      "cell_type": "markdown",
      "metadata": {
        "id": "deIFKPILeJJu"
      },
      "source": [
        "Basic Data Types: String, floats, Integers"
      ]
    },
    {
      "cell_type": "code",
      "metadata": {
        "colab": {
          "base_uri": "https://localhost:8080/",
          "height": 35
        },
        "id": "NVcjmX-geXe5",
        "outputId": "9ee25981-b391-465c-ccd5-2f5581ae045f"
      },
      "source": [
        "\"Hello World\"\n",
        "\"Programming\"\n",
        "\"Data Types\"\n",
        "\"12345\""
      ],
      "execution_count": 5,
      "outputs": [
        {
          "output_type": "execute_result",
          "data": {
            "application/vnd.google.colaboratory.intrinsic+json": {
              "type": "string"
            },
            "text/plain": [
              "'Data Types'"
            ]
          },
          "metadata": {},
          "execution_count": 5
        }
      ]
    },
    {
      "cell_type": "code",
      "metadata": {
        "colab": {
          "base_uri": "https://localhost:8080/"
        },
        "id": "GW-cqxJHe4fO",
        "outputId": "4c7c51aa-dcb0-4247-f21e-b2461019c849"
      },
      "source": [
        "5.99\n",
        "2.34"
      ],
      "execution_count": 6,
      "outputs": [
        {
          "output_type": "execute_result",
          "data": {
            "text/plain": [
              "2.34"
            ]
          },
          "metadata": {},
          "execution_count": 6
        }
      ]
    },
    {
      "cell_type": "code",
      "metadata": {
        "colab": {
          "base_uri": "https://localhost:8080/"
        },
        "id": "ilonmX_afCZE",
        "outputId": "3e971e56-cadf-459c-d881-9eddc142437f"
      },
      "source": [
        "4\n",
        "5\n",
        "100\n",
        "1200\n",
        "-4\n",
        "-20"
      ],
      "execution_count": 7,
      "outputs": [
        {
          "output_type": "execute_result",
          "data": {
            "text/plain": [
              "-20"
            ]
          },
          "metadata": {},
          "execution_count": 7
        }
      ]
    },
    {
      "cell_type": "markdown",
      "metadata": {
        "id": "fb52io8Afmca"
      },
      "source": [
        "Print() Function"
      ]
    },
    {
      "cell_type": "code",
      "metadata": {
        "colab": {
          "base_uri": "https://localhost:8080/"
        },
        "id": "RkjfWBA1fpws",
        "outputId": "c50eb97b-dc1f-4b6a-bfb6-8b0a806fd270"
      },
      "source": [
        "print(\"Hello Everyone!\")"
      ],
      "execution_count": 8,
      "outputs": [
        {
          "output_type": "stream",
          "name": "stdout",
          "text": [
            "Hello Everyone!\n"
          ]
        }
      ]
    },
    {
      "cell_type": "code",
      "metadata": {
        "colab": {
          "base_uri": "https://localhost:8080/"
        },
        "id": "gfhInykagAOm",
        "outputId": "42aaa95e-9a71-490a-922a-84af1c7928cf"
      },
      "source": [
        "print(3+3)\n",
        "print(2*5)\n",
        "print(100/10)\n",
        "print(100/10,8/3,\"Hello\")"
      ],
      "execution_count": 12,
      "outputs": [
        {
          "output_type": "stream",
          "name": "stdout",
          "text": [
            "6\n",
            "10\n",
            "10.0\n",
            "10.0 2.6666666666666665 Hello\n"
          ]
        }
      ]
    },
    {
      "cell_type": "markdown",
      "metadata": {
        "id": "a9y7qDUVhlmn"
      },
      "source": [
        "Concatenation "
      ]
    },
    {
      "cell_type": "code",
      "metadata": {
        "colab": {
          "base_uri": "https://localhost:8080/"
        },
        "id": "yuy8OnDVhoNT",
        "outputId": "fd5e4ef5-6b7c-44fa-d4e9-d2c4f0131aa7"
      },
      "source": [
        "print(\"He\"+\"llo\")\n",
        "print(6* \" Hello\")\n",
        "print(int(\"10\")+int(\"10\"))\n"
      ],
      "execution_count": 50,
      "outputs": [
        {
          "output_type": "stream",
          "name": "stdout",
          "text": [
            "Hello\n",
            " Hello Hello Hello Hello Hello Hello\n",
            "20\n"
          ]
        }
      ]
    },
    {
      "cell_type": "markdown",
      "metadata": {
        "id": "x0dt9ob4jQA3"
      },
      "source": [
        "Int(): allows us to force a sting into an integer"
      ]
    },
    {
      "cell_type": "markdown",
      "metadata": {
        "id": "kESTwfCckYMy"
      },
      "source": [
        "Storing Data: working with variables\n",
        "\n",
        "\n",
        "1.   cant begin with a number\n",
        "2.   no spaces ( first_Name )\n",
        "\n",
        "1.   camelcase\n",
        "2.   End with a number \n",
        "\n",
        "\n",
        "\n",
        "\n"
      ]
    },
    {
      "cell_type": "markdown",
      "metadata": {
        "id": "E0_eVb47m8EJ"
      },
      "source": [
        "Sam Flynn is 29 years old."
      ]
    },
    {
      "cell_type": "code",
      "metadata": {
        "colab": {
          "base_uri": "https://localhost:8080/"
        },
        "id": "41lUnw1wloyy",
        "outputId": "b554ceca-2efd-4a70-9b10-40a2fef151c8"
      },
      "source": [
        "firstName = \"Sam\"\n",
        "lastName = \"Flynn\"\n",
        "age = \"29\"\n",
        "MyBio =(firstName, lastName, \"is\", age, \"years old.\")\n",
        "print(MyBio)"
      ],
      "execution_count": 29,
      "outputs": [
        {
          "output_type": "stream",
          "name": "stdout",
          "text": [
            "('Sam', 'Flynn', 'is', '29', 'years old.')\n"
          ]
        }
      ]
    },
    {
      "cell_type": "code",
      "metadata": {
        "colab": {
          "base_uri": "https://localhost:8080/"
        },
        "id": "aYPcoSECo13Y",
        "outputId": "db88e367-67e7-4d96-e98d-4a4dbf078ff0"
      },
      "source": [
        "Name = \"bob\"\n",
        "age = \"18\"\n",
        "print(Name, age)"
      ],
      "execution_count": 31,
      "outputs": [
        {
          "output_type": "stream",
          "name": "stdout",
          "text": [
            "bob 18\n"
          ]
        }
      ]
    },
    {
      "cell_type": "code",
      "metadata": {
        "colab": {
          "base_uri": "https://localhost:8080/"
        },
        "id": "x5X4nh5bp4vm",
        "outputId": "462aefa8-fd64-4fa6-fd64-2a9cad0e61e4"
      },
      "source": [
        "def billCalculator(ppl,bill,tip):\n",
        "  share = (1 + tip) * bill/ppl\n",
        "  share = round(share,2)\n",
        "  return share\n",
        "\n",
        "print(billCalculator(6,345.18,0.12))"
      ],
      "execution_count": 52,
      "outputs": [
        {
          "output_type": "stream",
          "name": "stdout",
          "text": [
            "64.43\n"
          ]
        }
      ]
    },
    {
      "cell_type": "markdown",
      "metadata": {
        "id": "oxCvK952xjXN"
      },
      "source": [
        "Input() Funciton"
      ]
    },
    {
      "cell_type": "code",
      "metadata": {
        "colab": {
          "base_uri": "https://localhost:8080/"
        },
        "id": "QqlRUZT_xndX",
        "outputId": "516b92ba-78de-4af8-ee9a-ac0681d9706e"
      },
      "source": [
        "animal = input(\"What is your favorite animal?\")\n",
        "print(animal)"
      ],
      "execution_count": 53,
      "outputs": [
        {
          "output_type": "stream",
          "name": "stdout",
          "text": [
            "What is your favorite animal?Dog\n",
            "Dog\n"
          ]
        }
      ]
    },
    {
      "cell_type": "code",
      "metadata": {
        "colab": {
          "base_uri": "https://localhost:8080/"
        },
        "id": "nwMJwr_XyiOr",
        "outputId": "3c46b20e-d834-46d2-b26d-54cb567986ed"
      },
      "source": [
        "name = input(\"What is your name?\")\n",
        "animal = input(\"What is your favorite animal?\")\n",
        "\n",
        "print(f\" {name} 's favorite animal is the {animal} .\")"
      ],
      "execution_count": 48,
      "outputs": [
        {
          "output_type": "stream",
          "name": "stdout",
          "text": [
            "What is your name?Sam\n",
            "What is your favorite aniamal?Giraffe\n",
            "Sam's favorite animal is the Giraffe.\n"
          ]
        }
      ]
    },
    {
      "cell_type": "markdown",
      "metadata": {
        "id": "myYJJjNcz8hW"
      },
      "source": [
        "Print(\"Hello\", \"i'm\" , name \"I love summer\" .)\n",
        "print(f\" Hellow i'm {name} and i love the summer\")."
      ]
    }
  ]
}