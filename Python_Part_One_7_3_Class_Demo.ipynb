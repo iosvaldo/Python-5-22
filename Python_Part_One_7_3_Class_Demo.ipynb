{
  "nbformat": 4,
  "nbformat_minor": 0,
  "metadata": {
    "colab": {
      "name": "Python Part 1: 7-3 Class demo.ipynb",
      "provenance": [],
      "authorship_tag": "ABX9TyNMSxgBCtnkKUCYS1ysOxdE",
      "include_colab_link": true
    },
    "kernelspec": {
      "name": "python3",
      "display_name": "Python 3"
    },
    "language_info": {
      "name": "python"
    }
  },
  "cells": [
    {
      "cell_type": "markdown",
      "metadata": {
        "id": "view-in-github",
        "colab_type": "text"
      },
      "source": [
        "<a href=\"https://colab.research.google.com/github/iosvaldo/Python-Part-one-Jupyter-Notebook/blob/master/Python_Part_One_7_3_Class_Demo.ipynb\" target=\"_parent\"><img src=\"https://colab.research.google.com/assets/colab-badge.svg\" alt=\"Open In Colab\"/></a>"
      ]
    },
    {
      "cell_type": "code",
      "metadata": {
        "id": "Eox__yp3qmSr"
      },
      "source": [
        "#Strings, Integers, Floats"
      ],
      "execution_count": null,
      "outputs": []
    },
    {
      "cell_type": "code",
      "metadata": {
        "id": "vA6QXpfTsI1-"
      },
      "source": [
        "\"Hello World\"\n",
        "'Hello World'\n",
        "\"Hello World'\n",
        "\"Today is My dog Sam's 7th Birthday\""
      ],
      "execution_count": null,
      "outputs": []
    },
    {
      "cell_type": "code",
      "metadata": {
        "id": "x6QxvlVntJ-V"
      },
      "source": [
        "1\n",
        "-5\n",
        "100\n",
        "1200"
      ],
      "execution_count": null,
      "outputs": []
    },
    {
      "cell_type": "code",
      "metadata": {
        "id": "whBvV7_itm5Z"
      },
      "source": [
        "1.23\n",
        "2.99\n",
        "1.2"
      ],
      "execution_count": null,
      "outputs": []
    },
    {
      "cell_type": "code",
      "metadata": {
        "id": "jSoaJAxouD7N"
      },
      "source": [
        "#print fucntion\n",
        "\n",
        "print(\"Hello World\")"
      ],
      "execution_count": null,
      "outputs": []
    },
    {
      "cell_type": "code",
      "metadata": {
        "id": "1PVRAtotutq9"
      },
      "source": [
        "print(3+3)\n",
        "print(2*5)\n",
        "print(100/10)\n",
        "print(1.34+17)"
      ],
      "execution_count": null,
      "outputs": []
    },
    {
      "cell_type": "code",
      "metadata": {
        "id": "m822MbyWvd0M"
      },
      "source": [
        "print(100/4,,8/3 \"Hello\",\"World\")"
      ],
      "execution_count": null,
      "outputs": []
    },
    {
      "cell_type": "code",
      "metadata": {
        "id": "3tQEzkIlv9id"
      },
      "source": [
        "#Combining Data or Concatenation\n",
        "\n",
        "print(\"He\", \"llo\")\n",
        "print(\"He\"+\"llo\")\n",
        "print(2*\"Hello\")\n",
        "print(2*\" Hello\")\n",
        "print(2*\"Hello \")\n",
        "print(\"2\"+\"2\")\n",
        "\n",
        "#int Function\n",
        "\n",
        "print(int(\"2\")+ int(\"2\"))\n",
        "#print(int(\"books\")+ int(\"books\")) ERROR!"
      ],
      "execution_count": null,
      "outputs": []
    },
    {
      "cell_type": "code",
      "metadata": {
        "id": "MDwgiAEwzQrS"
      },
      "source": [
        "#Variables & Basic Rules\n",
        "\n",
        "#must begin with a letter\n",
        "#cant begin with a number But it can end with a number\n",
        "#variable cant have spaces\n",
        "#Should be related to the content\n",
        "\n",
        "#variable examples:\n",
        "#firstName, FirstName, First_Name\n"
      ],
      "execution_count": null,
      "outputs": []
    },
    {
      "cell_type": "code",
      "metadata": {
        "id": "3GuP7fI20lNY"
      },
      "source": [
        "firstName = \"Sam\"\n",
        "print(firstName)\n",
        "firstName = \"Tom\"\n",
        "print(firstName)\n",
        "firstName = \"Sam \"\n",
        "print(firstName)\n",
        "lastName = \"Smith\"\n",
        "print(lastName)\n",
        "lastName = \"Robbin\"\n",
        "print(lastName)\n",
        "age = \"30\"\n",
        "print(age)\n",
        "print(firstName, lastName)"
      ],
      "execution_count": null,
      "outputs": []
    },
    {
      "cell_type": "code",
      "metadata": {
        "id": "Yti9J6LI2HyK"
      },
      "source": [
        "#Lets create a sentence using our Variables\n",
        "\n",
        "# Sam Robbin is 30 years old.\n",
        "\n",
        "print(firstName,lastName , \"is\", age , \"years old.\")\n",
        "print(firstName+ lastName + \" is \"+ age + \" years old.\")"
      ],
      "execution_count": null,
      "outputs": []
    },
    {
      "cell_type": "code",
      "metadata": {
        "id": "DzPQnCO-4OoL"
      },
      "source": [
        "# F'' for format\n",
        "\n",
        "#Sam Robbins is 30 years old and has been living in NYC since 1990. \n",
        "#He has a pet named Max, and they both love eating pizza."
      ],
      "execution_count": null,
      "outputs": []
    },
    {
      "cell_type": "code",
      "metadata": {
        "id": "HM7Y3qBj42at"
      },
      "source": [
        "year = 1990\n",
        "petName = \"Max\"\n",
        "favFood = \"Pizza\"\n",
        "homeTown = \"NYC\"\n",
        "print(homeTown)\n",
        "\n",
        "\n",
        "print(f\"{firstName} {lastName} is {age} years old, and has been living in {homeTown} since {year}. He has a pet named {petName}, and they both love eating {favFood}.\")\n",
        "\n",
        "\n",
        "aboutMe = f\"{firstName} {lastName} is {age} years old, and has been living in {homeTown} since {year}. He has a pet named {petName}, and they both love eating {favFood}.\"\n",
        "bio = f\"{firstName} {lastName} is {age} years old, and has been living in {homeTown} since {year}. He has a pet named {petName}, and they both love eating {favFood}.\"\n",
        "print(aboutMe)\n",
        "print(bio)\n",
        "\n"
      ],
      "execution_count": null,
      "outputs": []
    },
    {
      "cell_type": "code",
      "metadata": {
        "id": "Z4-NZ-rt9TKR"
      },
      "source": [
        "#Total Bill caculator\n",
        "\n",
        "def billCalculator(ppl,bill,tip):\n",
        "  share = (1 + tip)* bill/ppl\n",
        "  share = round(share,2)\n",
        "  return share\n",
        "#print(billCalculator(6,210.12))\n",
        "#print(billCalculator(5,100.17))\n",
        "print(billCalculator(8,420.10,0.18))"
      ],
      "execution_count": null,
      "outputs": []
    },
    {
      "cell_type": "code",
      "metadata": {
        "id": "rfhLMRBsCbpY"
      },
      "source": [
        "#input Function\n",
        "\n",
        "animal = input(\"what is your favrite animal?\")\n",
        "print(animal)\n",
        "\n",
        "age = input(\"What is your age?\")\n",
        "print(int(age)+3)\n"
      ],
      "execution_count": null,
      "outputs": []
    }
  ]
}