{
  "nbformat": 4,
  "nbformat_minor": 0,
  "metadata": {
    "colab": {
      "name": "Python 1  Demo - 6/12.ipynb",
      "provenance": [],
      "authorship_tag": "ABX9TyOdHB5mXK7GVuPgAjS3USjb",
      "include_colab_link": true
    },
    "kernelspec": {
      "name": "python3",
      "display_name": "Python 3"
    },
    "language_info": {
      "name": "python"
    }
  },
  "cells": [
    {
      "cell_type": "markdown",
      "metadata": {
        "id": "view-in-github",
        "colab_type": "text"
      },
      "source": [
        "<a href=\"https://colab.research.google.com/github/iosvaldo/Python-Class-5-22/blob/master/Python_1_Demo_6_12.ipynb\" target=\"_parent\"><img src=\"https://colab.research.google.com/assets/colab-badge.svg\" alt=\"Open In Colab\"/></a>"
      ]
    },
    {
      "cell_type": "code",
      "metadata": {
        "id": "Cpu9G2aOghGK"
      },
      "source": [
        "#Data Types: string, floats, integers"
      ],
      "execution_count": 1,
      "outputs": []
    },
    {
      "cell_type": "code",
      "metadata": {
        "id": "JRWJZaEXivPU"
      },
      "source": [
        "\"Hello World\""
      ],
      "execution_count": null,
      "outputs": []
    },
    {
      "cell_type": "code",
      "metadata": {
        "id": "TGb7U7ZWjCQM"
      },
      "source": [
        "-5, -10, 100, 500, 40"
      ],
      "execution_count": null,
      "outputs": []
    },
    {
      "cell_type": "code",
      "metadata": {
        "id": "G5tTsYDOjunv"
      },
      "source": [
        "-4.99  "
      ],
      "execution_count": null,
      "outputs": []
    },
    {
      "cell_type": "code",
      "metadata": {
        "colab": {
          "base_uri": "https://localhost:8080/"
        },
        "id": "fDlT15JBkz2F",
        "outputId": "f99d4a1d-c89f-4013-b3bb-2860a74c7a2c"
      },
      "source": [
        "print(\"Hello World\")"
      ],
      "execution_count": 2,
      "outputs": [
        {
          "output_type": "stream",
          "text": [
            "Hello World\n"
          ],
          "name": "stdout"
        }
      ]
    },
    {
      "cell_type": "code",
      "metadata": {
        "colab": {
          "base_uri": "https://localhost:8080/"
        },
        "id": "dw49lzVtlYkV",
        "outputId": "f08495c4-56af-43f9-8003-d43251d01e08"
      },
      "source": [
        "print(5+5)"
      ],
      "execution_count": 3,
      "outputs": [
        {
          "output_type": "stream",
          "text": [
            "10\n"
          ],
          "name": "stdout"
        }
      ]
    },
    {
      "cell_type": "code",
      "metadata": {
        "colab": {
          "base_uri": "https://localhost:8080/"
        },
        "id": "Dnth5iLllYlz",
        "outputId": "535f04e1-46d0-4280-91dc-05bd21ff4c6b"
      },
      "source": [
        "print(2*5)"
      ],
      "execution_count": 4,
      "outputs": [
        {
          "output_type": "stream",
          "text": [
            "10\n"
          ],
          "name": "stdout"
        }
      ]
    },
    {
      "cell_type": "code",
      "metadata": {
        "colab": {
          "base_uri": "https://localhost:8080/"
        },
        "id": "uqSP310Ylq0T",
        "outputId": "fa2a4ff0-3435-442a-acb8-e1571a0c62f8"
      },
      "source": [
        "print(100/10)"
      ],
      "execution_count": 5,
      "outputs": [
        {
          "output_type": "stream",
          "text": [
            "10.0\n"
          ],
          "name": "stdout"
        }
      ]
    },
    {
      "cell_type": "code",
      "metadata": {
        "colab": {
          "base_uri": "https://localhost:8080/"
        },
        "id": "Q5hh4qCrmIhW",
        "outputId": "85aced04-1734-4739-c7ad-327fba08c637"
      },
      "source": [
        "print(100/10, 10/2, \"Hello\",\"World\")"
      ],
      "execution_count": 6,
      "outputs": [
        {
          "output_type": "stream",
          "text": [
            "10.0 5.0 Hello World\n"
          ],
          "name": "stdout"
        }
      ]
    },
    {
      "cell_type": "code",
      "metadata": {
        "id": "6A4ETqHvm4i3"
      },
      "source": [
        "# concatenation "
      ],
      "execution_count": null,
      "outputs": []
    },
    {
      "cell_type": "code",
      "metadata": {
        "colab": {
          "base_uri": "https://localhost:8080/"
        },
        "id": "V0YP9HSVm7Gd",
        "outputId": "6f032574-ca42-4be5-fe68-f9456b207b24"
      },
      "source": [
        "print(\"He\"+\"llo\")"
      ],
      "execution_count": 7,
      "outputs": [
        {
          "output_type": "stream",
          "text": [
            "Hello\n"
          ],
          "name": "stdout"
        }
      ]
    },
    {
      "cell_type": "code",
      "metadata": {
        "colab": {
          "base_uri": "https://localhost:8080/"
        },
        "id": "yCLXEAAanPEM",
        "outputId": "fd36dc5f-a504-434a-92c6-f492da93345a"
      },
      "source": [
        "print(4*\" Hello\")"
      ],
      "execution_count": 13,
      "outputs": [
        {
          "output_type": "stream",
          "text": [
            " Hello Hello Hello Hello\n"
          ],
          "name": "stdout"
        }
      ]
    },
    {
      "cell_type": "code",
      "metadata": {
        "colab": {
          "base_uri": "https://localhost:8080/"
        },
        "id": "BVieG-JBnqsW",
        "outputId": "b9612a12-8a63-4324-af4e-98822b347ad8"
      },
      "source": [
        "print(int(\"2\") + int(\"2\"))"
      ],
      "execution_count": 15,
      "outputs": [
        {
          "output_type": "stream",
          "text": [
            "4\n"
          ],
          "name": "stdout"
        }
      ]
    },
    {
      "cell_type": "code",
      "metadata": {
        "id": "GjDIbwsfplsq"
      },
      "source": [
        "# Storing information creating variables\n",
        "# you have to begin with a letter\n",
        "# cant begin with number byt can end with a number\n",
        "# camelcasing FirstName or firstname firstName"
      ],
      "execution_count": null,
      "outputs": []
    },
    {
      "cell_type": "code",
      "metadata": {
        "colab": {
          "base_uri": "https://localhost:8080/"
        },
        "id": "PGBSwo9oqBgj",
        "outputId": "8274d0ab-1179-4608-b49c-e38af14f3fce"
      },
      "source": [
        "firstname = \"Tommy\"\n",
        "lastname =\"Sam\"\n",
        "age = \"25\"\n",
        "year = \"1998\"\n",
        "pet = \"Max\"\n",
        "favfood = \"Pizza\"\n",
        "print(firstname, lastname)\n",
        "\n",
        "print(firstname + \" is \" + age + \" years old\")\n",
        "\n",
        "myInfo = f\"{firstname} {lastname} is {age} years old. He has been living in nyc since {year}. {firstname} has a dog named {pet}, and they both love eating {favfood}.\"\n",
        "\n",
        "\n",
        "print(myInfo)"
      ],
      "execution_count": 35,
      "outputs": [
        {
          "output_type": "stream",
          "text": [
            "Tommy Sam\n",
            "Tommy is 25 years old\n",
            "Tommy Sam is 25 years old. He has been living in nyc since 1998. Tommy has a dog named Max, and they both love eating Pizza.\n"
          ],
          "name": "stdout"
        }
      ]
    },
    {
      "cell_type": "code",
      "metadata": {
        "id": "WQmIg-cYsXtt"
      },
      "source": [
        "# Tommy Sam is 25 years old and has been living in NYc since 1998. \n",
        "# Tommy has a dog named Max, and they both love pizza."
      ],
      "execution_count": null,
      "outputs": []
    },
    {
      "cell_type": "code",
      "metadata": {
        "id": "jKL7-mZ9zhDI"
      },
      "source": [
        "# Tip Calculator"
      ],
      "execution_count": null,
      "outputs": []
    },
    {
      "cell_type": "code",
      "metadata": {
        "colab": {
          "base_uri": "https://localhost:8080/"
        },
        "id": "fPGbnZ00zkWD",
        "outputId": "8d8e541d-2093-4a5f-b6da-02068feb80d8"
      },
      "source": [
        "def TipCalculator(ppl,bill,tip):\n",
        "  share = (1 + tip) * bill/ppl\n",
        "  share = round(share,2)\n",
        "  return share\n",
        "print(TipCalculator(5,120.13,0.15))"
      ],
      "execution_count": 47,
      "outputs": [
        {
          "output_type": "stream",
          "text": [
            "27.63\n"
          ],
          "name": "stdout"
        }
      ]
    },
    {
      "cell_type": "code",
      "metadata": {
        "colab": {
          "base_uri": "https://localhost:8080/"
        },
        "id": "vTaBEuFi2wVA",
        "outputId": "d25ecda3-b1ee-4837-d5af-ad343f4e9b2c"
      },
      "source": [
        "print(f\" I went to dinner last night with 4 friends and I spent $ {TipCalculator(5,120.13,0.15)}\")"
      ],
      "execution_count": 49,
      "outputs": [
        {
          "output_type": "stream",
          "text": [
            " I went to dinner last night with 4 friends and I spent $ 27.63\n"
          ],
          "name": "stdout"
        }
      ]
    },
    {
      "cell_type": "code",
      "metadata": {
        "colab": {
          "base_uri": "https://localhost:8080/"
        },
        "id": "0RH0p06D5PM2",
        "outputId": "d687c2f7-ddef-48ca-8d58-60400111c730"
      },
      "source": [
        "Name = input(\"What is your Name?\")\n",
        "food = input(\"what is your Favorite food?\")\n",
        "print(f\" {Name}'s favorite food is {food}.\")"
      ],
      "execution_count": 52,
      "outputs": [
        {
          "output_type": "stream",
          "text": [
            "What is your Name?Tommy\n",
            "what is your Favorite food?Pizza\n",
            " Tommy's favorite food is Pizza.\n"
          ],
          "name": "stdout"
        }
      ]
    }
  ]
}
