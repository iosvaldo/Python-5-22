{
  "nbformat": 4,
  "nbformat_minor": 0,
  "metadata": {
    "colab": {
      "name": "python part one 7-23 Class demo.ipynb",
      "provenance": [],
      "authorship_tag": "ABX9TyMU/tPg3M+AofF/h+o8Ontr",
      "include_colab_link": true
    },
    "kernelspec": {
      "name": "python3",
      "display_name": "Python 3"
    },
    "language_info": {
      "name": "python"
    }
  },
  "cells": [
    {
      "cell_type": "markdown",
      "metadata": {
        "id": "view-in-github",
        "colab_type": "text"
      },
      "source": [
        "<a href=\"https://colab.research.google.com/github/iosvaldo/Python-Part-one-Jupyter-Notebook/blob/master/python_part_one_7_23_Class_demo.ipynb\" target=\"_parent\"><img src=\"https://colab.research.google.com/assets/colab-badge.svg\" alt=\"Open In Colab\"/></a>"
      ]
    },
    {
      "cell_type": "code",
      "metadata": {
        "id": "v2ngBMzXt57_"
      },
      "source": [
        "#Primative Data Types: Strings, integers, floats\n",
        "\"Hello World\"\n",
        "5, 10, -100\n",
        "4.5, 5.99, 1.234"
      ],
      "execution_count": null,
      "outputs": []
    },
    {
      "cell_type": "code",
      "metadata": {
        "id": "EqUjvjDsu2qO"
      },
      "source": [
        "#||||print() general syntax |||||\n",
        "#print function shows your whats inside the parentheses\n",
        "\n",
        "#print(1234)\n",
        "#print(\"hello\")\n",
        "#print(1.234)\n",
        "#print(3*3,8/3,\"Hello World\")\n",
        "\n",
        "#||||||||int() general syntax |||||||\n",
        "# int function forces a string to be interpreted as a number.\n",
        "\n",
        "#print(int(\"100\")+int(\"5\"))\n",
        "\n",
        "# ||||| How to create a vairable ||||\n",
        "#cant begin with a number, have to begin with a letter. \n",
        "#Example good variable names: FirstName or firstName or First_Name \n",
        "#follow vairable name with an equal sign and you assign it a value. \n",
        "\n",
        "# |||| Objective: create a sentence like the one below using variables |||| \n",
        "\n",
        "# Tom smith 25 years old and has been living in NYC since 1995. \n",
        "# He has a pet name Max, and they both love Pizza.\n",
        "\n",
        "# |||||variables ||||\n",
        "#firstName = \"Tom\"\n",
        "##lastName = \"smith\"\n",
        "#age = 25\n",
        "#born = \"nyc\"\n",
        "#year = 1995\n",
        "#petName = \"Max\"\n",
        "#favoriteFood = \"Pizza\"\n",
        "\n",
        "#||||||| creating a sentence ||||||||\n",
        "\n",
        "#print(firstName+ “is” , age , “years old”)\n",
        "\n",
        "#||||||| f method to create a sentence ||||||||\n",
        "\n",
        "#print(f\" {firstName} {lastName} is {age} years old, and has been living in {born} since {year}. He has a pet named {petName}, and they both love {favoriteFood}.\")\n",
        "\n",
        "#taking the sentence, removing the strings, parentheses, adding curly braces acound variables and assigning it to a new variable.\n",
        "\n",
        "#aboutMe = f\" {firstName} {lastName} is {age} years old, and has been living in {born} since {year}. He has a pet named {petName}, and they both love {favoriteFood}.\"\n",
        "\n",
        "#print(aboutMe)\n",
        "\n",
        "#|||||||||||||||||||| creating a total bill & tip calculator program |||||||||||||\n",
        "\n",
        "#def BillCalculator(ppl,bill,tip):\n",
        "  #share = (1 + tip)*bill/ppl\n",
        "  #share = round(share,3)\n",
        "  #return share\n",
        "\n",
        "#print(BillCalculator(5,120.13,.18))\n",
        "   "
      ],
      "execution_count": null,
      "outputs": []
    },
    {
      "cell_type": "markdown",
      "metadata": {
        "id": "2XUf3o38uIuC"
      },
      "source": [
        ""
      ]
    }
  ]
}